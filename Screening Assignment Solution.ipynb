{
 "cells": [
  {
   "cell_type": "markdown",
   "id": "5392e427",
   "metadata": {},
   "source": [
    "### 1. Create a function in python to read the text file and replace specific content of the file.\n",
    "\n",
    "File name example.txt\n",
    "Origin file content:- **This is a placement assignment**  \n",
    "Replace string Placement should be replaced by **screening.**  \n",
    "Replaced file content:- **This is a screening assignment**  "
   ]
  },
  {
   "cell_type": "code",
   "execution_count": 14,
   "id": "b1c20f3a",
   "metadata": {},
   "outputs": [],
   "source": [
    "file = open('example.txt','w')\n",
    "file.write(\"This is a placement assignment\")\n",
    "file.close()"
   ]
  },
  {
   "cell_type": "code",
   "execution_count": 4,
   "id": "75f8ea67",
   "metadata": {},
   "outputs": [],
   "source": [
    "import logging\n",
    "logging.basicConfig(filename = \"screening_list.log\",level = logging.DEBUG,format=\"%(asctime)s %(levelname)s %(message)s\",filemode='w')\n",
    "\n",
    "find_text = 'placement'\n",
    "replace_text = 'screening'\n",
    "try:\n",
    "    with open(r'example.txt', 'r') as file:\n",
    "        data = file.read()\n",
    "        data = data.replace(find_text, replace_text)\n",
    "    with open(r'example.txt', 'w') as file:\n",
    "        file.write(data)\n",
    "        logging.info(\"executed successfully\")\n",
    "except Exception as e:\n",
    "    print(e)\n",
    "    logging.error(\"Error occured while opening the file\")\n",
    "    logging.exception(\"Error as {e}\")\n",
    "\n",
    "file.close()"
   ]
  },
  {
   "cell_type": "markdown",
   "id": "c764c1a4",
   "metadata": {},
   "source": [
    "### 2. Demonstrate use of abstract class, multiple inheritance and decorator in python using examples.\n",
    "**Abstract Class:-** An abstract class can be considered as a blueprint for other classes. It allows you to create a set of methods that must be created within any child classes built from the abstract class.  \n",
    "**Multiple Inheritance:-** When a class is derived from more than one base class it is called multiple Inheritance. The derived class inherits all the features of the base case.  \n",
    "**Decorators:-** Decorator in Python adds additional responsibilities/functionalities to a function dynamically without modifying a function and it is use DRY programming."
   ]
  },
  {
   "cell_type": "code",
   "execution_count": 17,
   "id": "ae0c9d4b",
   "metadata": {},
   "outputs": [],
   "source": [
    "# asbtract class example\n",
    "\n",
    "from abc import abstractmethod\n",
    "\n",
    "class  data_project:\n",
    "    \n",
    "    @abstractmethod\n",
    "    def read_file(self):\n",
    "        pass\n",
    "    def validate_filename(self):\n",
    "        pass\n",
    "    def validate_datatype(self):\n",
    "        pass\n",
    "    def validate_db_conn(self):\n",
    "        pass\n",
    "    def create_conn(self):\n",
    "        pass\n",
    "    def create_data(self):\n",
    "        pass\n",
    "    def insert_data(self):\n",
    "        pass\n",
    "    def delete_data(self):\n",
    "        pass\n",
    "    def updatae_data(self):\n",
    "        pass\n",
    "    def perform_stats(self):\n",
    "        pass\n",
    "    def perform_eda(self):\n",
    "        pass"
   ]
  },
  {
   "cell_type": "code",
   "execution_count": 19,
   "id": "40f260b9",
   "metadata": {},
   "outputs": [
    {
     "name": "stdout",
     "output_type": "stream",
     "text": [
      "This is first test\n",
      "This is second test\n"
     ]
    }
   ],
   "source": [
    "# multiple inheritence example\n",
    "\n",
    "class test1:\n",
    "    def a(self):\n",
    "        print(\"This is first test\")\n",
    "\n",
    "class test2:\n",
    "    def b(self):\n",
    "        print(\"This is second test\")\n",
    "\n",
    "class Child(test1,test2):\n",
    "    pass\n",
    "\n",
    "obj = Child()\n",
    "obj.a()\n",
    "obj.b()"
   ]
  },
  {
   "cell_type": "code",
   "execution_count": 27,
   "id": "97c34f70",
   "metadata": {},
   "outputs": [
    {
     "name": "stdout",
     "output_type": "stream",
     "text": [
      "executing\n",
      "Hi,How are you?\n",
      "executed\n"
     ]
    }
   ],
   "source": [
    "# decorator example\n",
    "\n",
    "def dec1(func1):\n",
    "    def funcexec():\n",
    "        print(\"executing\")\n",
    "        func1()\n",
    "        print(\"executed\")\n",
    "    return funcexec\n",
    "\n",
    "\n",
    "@dec1   # here decorator is use\n",
    "def test():\n",
    "    print(\"Hi,How are you?\")\n",
    "test()"
   ]
  }
 ],
 "metadata": {
  "kernelspec": {
   "display_name": "Python 3 (ipykernel)",
   "language": "python",
   "name": "python3"
  },
  "language_info": {
   "codemirror_mode": {
    "name": "ipython",
    "version": 3
   },
   "file_extension": ".py",
   "mimetype": "text/x-python",
   "name": "python",
   "nbconvert_exporter": "python",
   "pygments_lexer": "ipython3",
   "version": "3.9.7"
  }
 },
 "nbformat": 4,
 "nbformat_minor": 5
}
